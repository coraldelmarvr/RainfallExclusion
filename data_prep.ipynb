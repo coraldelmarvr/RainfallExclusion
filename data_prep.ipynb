{
 "cells": [
  {
   "cell_type": "code",
   "execution_count": 1,
   "id": "7d4c0e94-3982-4560-8e26-875bc0b78f4f",
   "metadata": {},
   "outputs": [],
   "source": [
    "#Chunk that sloads necessary packages & sets working environment to where the jupyterlab notebook file is \n",
    "%load_ext autoreload\n",
    "%autoreload 2\n",
    "import gnssvod as gv\n",
    "import numpy as np\n",
    "import pandas as pd\n",
    "import matplotlib.pyplot as plt\n",
    "import matplotlib.dates as mdates\n",
    "import pdb\n",
    "import importlib\n",
    "import zipfile\n",
    "import os\n",
    "import xarray as xr\n",
    "import glob\n",
    "import shutil\n",
    "from gnssvod.hemistats.hemistats import hemibuild\n",
    "#import georinex as gr\n",
    "#import qgrid as interactive table \n",
    "from matplotlib.collections import PatchCollection\n",
    "import matplotlib.dates as mdates\n",
    "import shutil\n",
    "from matplotlib import rcParams\n",
    "from datetime import datetime, timedelta"
   ]
  },
  {
   "cell_type": "code",
   "execution_count": 2,
   "id": "1c1aa5fc-d74e-4b23-aa5f-574a3effd97a",
   "metadata": {},
   "outputs": [],
   "source": [
    "# zentra data\n",
    "zentra_file= '/Volumes/coraldelmar/zentra/coffe_zentra.csv'\n",
    "df_zentra=pd.read_csv(zentra_file)"
   ]
  },
  {
   "cell_type": "code",
   "execution_count": 3,
   "id": "f1ed2b6a-7673-4ddb-af0e-ccb51cfd6ce8",
   "metadata": {},
   "outputs": [
    {
     "name": "stdout",
     "output_type": "stream",
     "text": [
      "        z6-21164                 Port 2              Port 2.1  \\\n",
      "0  Records: 4851               TEROS 21              TEROS 21   \n",
      "1      Timestamp   kPa Matric Potential   °C Soil Temperature   \n",
      "2   7/18/23 9:00                   -0.1                    25   \n",
      "3  7/18/23 10:00                   -0.1                    25   \n",
      "4  7/18/23 11:00                   -0.1                    25   \n",
      "\n",
      "                  Port 5              Port 5.1             Port 6  \\\n",
      "0               TEROS 21              TEROS 21          PHYTOS 31   \n",
      "1   kPa Matric Potential   °C Soil Temperature   min Leaf Wetness   \n",
      "2                   -0.1                  24.7                 24   \n",
      "3                   -0.1                  24.7                 53   \n",
      "4                   -0.1                  24.7                  0   \n",
      "\n",
      "                   Port 6.1        Port 6.2             Port 7  \\\n",
      "0                 PHYTOS 31       PHYTOS 31            Battery   \n",
      "1   min Leaf Wetness (high)   Wetness Level  % Battery Percent   \n",
      "2                         0             453                100   \n",
      "3                         0             448                100   \n",
      "4                         0             449                100   \n",
      "\n",
      "              Port 7.1                   Port 8                Port 8.1  \n",
      "0              Battery                Barometer               Barometer  \n",
      "1   mV Battery Voltage   kPa Reference Pressure   °C Logger Temperature  \n",
      "2                 8108                    97.95                      26  \n",
      "3                 8102                    97.95                    26.1  \n",
      "4                 8099                    97.95                    26.7  \n"
     ]
    }
   ],
   "source": [
    "print(df_zentra.head())"
   ]
  },
  {
   "cell_type": "code",
   "execution_count": 4,
   "id": "b61f284d-7fdc-4a8c-a85a-e01569033846",
   "metadata": {},
   "outputs": [
    {
     "name": "stdout",
     "output_type": "stream",
     "text": [
      "Index(['z6-21164', 'Port 2', 'Port 2.1', 'Port 5', 'Port 5.1', 'Port 6',\n",
      "       'Port 6.1', 'Port 6.2', 'Port 7', 'Port 7.1', 'Port 8', 'Port 8.1'],\n",
      "      dtype='object')\n"
     ]
    }
   ],
   "source": [
    "print(df_zentra.columns)"
   ]
  },
  {
   "cell_type": "code",
   "execution_count": 5,
   "id": "ee45b3e4-86d5-4160-a3da-c8a2122c8cc1",
   "metadata": {},
   "outputs": [
    {
     "name": "stdout",
     "output_type": "stream",
     "text": [
      "Index(['Timestamp', 'Teros1', 'Teros1 Temp', 'Teros2', 'Teros2 Temp',\n",
      "       'PHYTOS min', 'PHYTOS high', 'Wetness Lvl', 'Battery PRctng',\n",
      "       'mV battery', 'barometer', 'loggerT'],\n",
      "      dtype='object')\n"
     ]
    }
   ],
   "source": [
    "df_zentra=df_zentra.rename(columns={'z6-21164':'Timestamp',\n",
    "                                    'Port 2':'Teros1',\n",
    "                                    'Port 2.1':'Teros1 Temp',\n",
    "                                    'Port 5': 'Teros2',\n",
    "                                    'Port 5.1': 'Teros2 Temp',\n",
    "                                    'Port 6': 'PHYTOS min',\n",
    "                                    'Port 6.1': 'PHYTOS high',\n",
    "                                    'Port 6.2':'Wetness Lvl',\n",
    "                                    'Port 7': 'Battery PRctng',\n",
    "                                    'Port 7.1': 'mV battery',\n",
    "                                    'Port 8': 'barometer',\n",
    "                                    'Port 8.1': 'loggerT'})\n",
    "print(df_zentra.columns)"
   ]
  },
  {
   "cell_type": "code",
   "execution_count": 6,
   "id": "690629b5-b2f4-4bf9-9aa1-4bcbfaca287c",
   "metadata": {},
   "outputs": [],
   "source": [
    "#dropping unwanted columns & rows\n",
    "columns2drop=['Battery PRctng','mV battery','barometer','loggerT']\n",
    "df_zentra=df_zentra.drop(columns=columns2drop, errors='ignore')\n",
    "df_zentra=df_zentra.drop(index=[0,1])                   "
   ]
  },
  {
   "cell_type": "code",
   "execution_count": 7,
   "id": "3645feea-f9fd-45d0-b160-cfaa114d8be8",
   "metadata": {
    "tags": []
   },
   "outputs": [
    {
     "name": "stdout",
     "output_type": "stream",
     "text": [
      "        Timestamp Teros1 Teros1 Temp Teros2 Teros2 Temp PHYTOS min  \\\n",
      "2    7/18/23 9:00   -0.1          25   -0.1        24.7         24   \n",
      "3   7/18/23 10:00   -0.1          25   -0.1        24.7         53   \n",
      "4   7/18/23 11:00   -0.1          25   -0.1        24.7          0   \n",
      "5   7/18/23 12:00   -0.1          25   -0.1        24.7          0   \n",
      "6   7/18/23 13:00   -0.1          25   -0.1        24.7          0   \n",
      "7   7/18/23 14:00   -0.1          25   -0.1        24.7          0   \n",
      "8   7/18/23 15:00   -0.1          25   -0.1        24.8          8   \n",
      "9   7/18/23 16:00   -0.1        25.1   -0.1        24.8          0   \n",
      "10  7/18/23 17:00   -0.1        25.1   -0.1        24.8          0   \n",
      "11  7/18/23 18:00   -0.1        25.1   -0.1        24.8          0   \n",
      "\n",
      "   PHYTOS high Wetness Lvl  \n",
      "2            0         453  \n",
      "3            0         448  \n",
      "4            0         449  \n",
      "5            0         448  \n",
      "6            0         449  \n",
      "7            0         448  \n",
      "8            0         448  \n",
      "9            0         448  \n",
      "10           0         448  \n",
      "11           0         448  \n"
     ]
    }
   ],
   "source": [
    "print(df_zentra.head(10))  "
   ]
  },
  {
   "cell_type": "code",
   "execution_count": 8,
   "id": "9e89e5d9-98c6-46a4-a34b-6de934b8d385",
   "metadata": {},
   "outputs": [
    {
     "name": "stdout",
     "output_type": "stream",
     "text": [
      "50 cm shape: (688067, 7)\n",
      "1 m shape: (659416, 7)\n"
     ]
    }
   ],
   "source": [
    "#soilvue data\n",
    "# Filepaths for each year\n",
    "soilvue50cm_files = [\n",
    "    '/Volumes/coraldelmar/soilvue/2022/50 cm probe data 2022.csv',\n",
    "    '/Volumes/coraldelmar/soilvue/2023/50 cm probe data 2023.csv',\n",
    "    '/Volumes/coraldelmar/soilvue/2024/50 cm probe data 2024.csv',\n",
    "    '/Volumes/coraldelmar/soilvue/2025/50 cm probe data 2025.csv'\n",
    "]\n",
    "\n",
    "soilvue1m_files = [\n",
    "    '/Volumes/coraldelmar/soilvue/2023/100 cm probe data 2023.csv',\n",
    "    '/Volumes/coraldelmar/soilvue/2024/100 cm probe data 2024.csv',\n",
    "    '/Volumes/coraldelmar/soilvue/2025/100 cm probe data 2025.csv'\n",
    "]\n",
    "\n",
    "# Read and combine each probe depth\n",
    "df_soilvue50cm = pd.concat([pd.read_csv(f) for f in soilvue50cm_files], ignore_index=True)\n",
    "df_soilvue1m   = pd.concat([pd.read_csv(f) for f in soilvue1m_files], ignore_index=True)\n",
    "\n",
    "\n",
    "print(\"50 cm shape:\", df_soilvue50cm.shape)\n",
    "print(\"1 m shape:\", df_soilvue1m.shape)\n"
   ]
  },
  {
   "cell_type": "code",
   "execution_count": 9,
   "id": "45a10d91-c37b-4eee-9cfb-e1905c92ad92",
   "metadata": {},
   "outputs": [
    {
     "name": "stdout",
     "output_type": "stream",
     "text": [
      "Index(['VWC', 'depth', 'File', 'Site', 'Temperature', 'DT', 'Probe_Name'], dtype='object')\n"
     ]
    }
   ],
   "source": [
    "print(df_soilvue50cm.columns)"
   ]
  },
  {
   "cell_type": "code",
   "execution_count": 10,
   "id": "b2d52272-f7c4-474f-b06a-adee2d931b59",
   "metadata": {},
   "outputs": [
    {
     "name": "stdout",
     "output_type": "stream",
     "text": [
      "     VWC  depth     Plot  Temperature            Timestamp\n",
      "0  0.007      5  Coffe 1        0.825  2022-09-02 17:00:00\n",
      "1  0.006     10  Coffe 1        0.823  2022-09-02 17:00:00\n",
      "2  0.015     20  Coffe 1        0.807  2022-09-02 17:00:00\n",
      "3  0.016     30  Coffe 1        0.799  2022-09-02 17:00:00\n",
      "4  0.015     40  Coffe 1        0.798  2022-09-02 17:00:00\n",
      "5  0.014     50  Coffe 1        0.794  2022-09-02 17:00:00\n",
      "6  0.222      5  Coffe 1       24.640  2022-09-02 18:00:00\n",
      "7  0.190     10  Coffe 1       24.620  2022-09-02 18:00:00\n",
      "8  0.438     20  Coffe 1       24.210  2022-09-02 18:00:00\n",
      "9  0.466     30  Coffe 1       23.970  2022-09-02 18:00:00\n"
     ]
    }
   ],
   "source": [
    "columnsdrop=['File','Probe_Name']\n",
    "df_soilvue50cm=df_soilvue50cm.drop(columns=columnsdrop)\n",
    "df_soilvue50cm=df_soilvue50cm.rename(columns={'Site':'Plot',\n",
    "                                             'DT':'Timestamp'})\n",
    "print(df_soilvue50cm.head(10))"
   ]
  },
  {
   "cell_type": "code",
   "execution_count": 11,
   "id": "afb08879-1b82-4b68-81f2-b9b91e49ac3f",
   "metadata": {},
   "outputs": [
    {
     "name": "stdout",
     "output_type": "stream",
     "text": [
      "          VWC  depth                                               File  \\\n",
      "0       0.107      5  5_8_2023/Coffe 2/Coffe 2_SoilVUE1m_hr_Coffee2.csv   \n",
      "1       0.127     10  5_8_2023/Coffe 2/Coffe 2_SoilVUE1m_hr_Coffee2.csv   \n",
      "2       0.069     20  5_8_2023/Coffe 2/Coffe 2_SoilVUE1m_hr_Coffee2.csv   \n",
      "3       0.206     30  5_8_2023/Coffe 2/Coffe 2_SoilVUE1m_hr_Coffee2.csv   \n",
      "4       0.225     40  5_8_2023/Coffe 2/Coffe 2_SoilVUE1m_hr_Coffee2.csv   \n",
      "...       ...    ...                                                ...   \n",
      "659411  0.125     40  1_7_2024/LFDP0204/LFDP0204_SVUE1m_hr_LFDP0204.csv   \n",
      "659412  0.219     50  1_7_2024/LFDP0204/LFDP0204_SVUE1m_hr_LFDP0204.csv   \n",
      "659413  0.289     60  1_7_2024/LFDP0204/LFDP0204_SVUE1m_hr_LFDP0204.csv   \n",
      "659414  0.498     75  1_7_2024/LFDP0204/LFDP0204_SVUE1m_hr_LFDP0204.csv   \n",
      "659415  0.633    100  1_7_2024/LFDP0204/LFDP0204_SVUE1m_hr_LFDP0204.csv   \n",
      "\n",
      "            Site  Temperature                   DT  \\\n",
      "0        Coffe 2        24.35  2023-05-05 12:00:00   \n",
      "1        Coffe 2        24.01  2023-05-05 12:00:00   \n",
      "2        Coffe 2        23.55  2023-05-05 12:00:00   \n",
      "3        Coffe 2        23.40  2023-05-05 12:00:00   \n",
      "4        Coffe 2        23.25  2023-05-05 12:00:00   \n",
      "...          ...          ...                  ...   \n",
      "659411  LFDP0204        22.71  2025-01-07 10:00:00   \n",
      "659412  LFDP0204        22.85  2025-01-07 10:00:00   \n",
      "659413  LFDP0204        22.97  2025-01-07 10:00:00   \n",
      "659414  LFDP0204        23.13  2025-01-07 10:00:00   \n",
      "659415  LFDP0204        23.36  2025-01-07 10:00:00   \n",
      "\n",
      "                            Probe_Name  \n",
      "0          Coffe 2_100cm_probe_depth_5  \n",
      "1         Coffe 2_100cm_probe_depth_10  \n",
      "2         Coffe 2_100cm_probe_depth_20  \n",
      "3         Coffe 2_100cm_probe_depth_30  \n",
      "4         Coffe 2_100cm_probe_depth_40  \n",
      "...                                ...  \n",
      "659411   LFDP0204_100cm_probe_depth_40  \n",
      "659412   LFDP0204_100cm_probe_depth_50  \n",
      "659413   LFDP0204_100cm_probe_depth_60  \n",
      "659414   LFDP0204_100cm_probe_depth_75  \n",
      "659415  LFDP0204_100cm_probe_depth_100  \n",
      "\n",
      "[659416 rows x 7 columns]\n"
     ]
    }
   ],
   "source": [
    "print(df_soilvue1m)"
   ]
  },
  {
   "cell_type": "code",
   "execution_count": 12,
   "id": "a991cafc-72fa-47fb-ab91-df76f597e39c",
   "metadata": {},
   "outputs": [
    {
     "name": "stdout",
     "output_type": "stream",
     "text": [
      "     VWC  depth     Plot  Temperature            Timestamp\n",
      "0  0.107      5  Coffe 2        24.35  2023-05-05 12:00:00\n",
      "1  0.127     10  Coffe 2        24.01  2023-05-05 12:00:00\n",
      "2  0.069     20  Coffe 2        23.55  2023-05-05 12:00:00\n",
      "3  0.206     30  Coffe 2        23.40  2023-05-05 12:00:00\n",
      "4  0.225     40  Coffe 2        23.25  2023-05-05 12:00:00\n",
      "5  0.051     50  Coffe 2        23.08  2023-05-05 12:00:00\n",
      "6  0.110     60  Coffe 2        22.87  2023-05-05 12:00:00\n",
      "7  0.210     75  Coffe 2        22.66  2023-05-05 12:00:00\n",
      "8  0.531    100  Coffe 2        22.42  2023-05-05 12:00:00\n",
      "9  0.112      5  Coffe 2        23.91  2023-05-05 13:00:00\n"
     ]
    }
   ],
   "source": [
    "columnsdrop=['File','Probe_Name']\n",
    "df_soilvue1m=df_soilvue1m.drop(columns=columnsdrop)\n",
    "df_soilvue1m=df_soilvue1m.rename(columns={'Site':'Plot',\n",
    "                                         'DT':'Timestamp'})\n",
    "print(df_soilvue1m.head(10))"
   ]
  },
  {
   "cell_type": "code",
   "execution_count": 13,
   "id": "51072b43-5200-485f-9b07-6c2ac39f8e1b",
   "metadata": {},
   "outputs": [],
   "source": [
    "#addressing the mixed/missing timestamps\n",
    "df_soilvue1m['Timestamp'] = pd.to_datetime(df_soilvue1m['Timestamp'], format='mixed', errors='coerce')"
   ]
  },
  {
   "cell_type": "code",
   "execution_count": 14,
   "id": "c95e9bc4-efcf-49e2-837a-62a3710caa60",
   "metadata": {},
   "outputs": [
    {
     "data": {
      "text/html": [
       "<div>\n",
       "<style scoped>\n",
       "    .dataframe tbody tr th:only-of-type {\n",
       "        vertical-align: middle;\n",
       "    }\n",
       "\n",
       "    .dataframe tbody tr th {\n",
       "        vertical-align: top;\n",
       "    }\n",
       "\n",
       "    .dataframe thead th {\n",
       "        text-align: right;\n",
       "    }\n",
       "</style>\n",
       "<table border=\"1\" class=\"dataframe\">\n",
       "  <thead>\n",
       "    <tr style=\"text-align: right;\">\n",
       "      <th></th>\n",
       "      <th>VWC</th>\n",
       "      <th>depth</th>\n",
       "      <th>Plot</th>\n",
       "      <th>Temperature</th>\n",
       "      <th>Timestamp</th>\n",
       "    </tr>\n",
       "  </thead>\n",
       "  <tbody>\n",
       "    <tr>\n",
       "      <th>0</th>\n",
       "      <td>0.107</td>\n",
       "      <td>5</td>\n",
       "      <td>Coffe 2</td>\n",
       "      <td>24.35</td>\n",
       "      <td>2023-05-05 12:00:00</td>\n",
       "    </tr>\n",
       "    <tr>\n",
       "      <th>1</th>\n",
       "      <td>0.127</td>\n",
       "      <td>10</td>\n",
       "      <td>Coffe 2</td>\n",
       "      <td>24.01</td>\n",
       "      <td>2023-05-05 12:00:00</td>\n",
       "    </tr>\n",
       "    <tr>\n",
       "      <th>2</th>\n",
       "      <td>0.069</td>\n",
       "      <td>20</td>\n",
       "      <td>Coffe 2</td>\n",
       "      <td>23.55</td>\n",
       "      <td>2023-05-05 12:00:00</td>\n",
       "    </tr>\n",
       "    <tr>\n",
       "      <th>3</th>\n",
       "      <td>0.206</td>\n",
       "      <td>30</td>\n",
       "      <td>Coffe 2</td>\n",
       "      <td>23.40</td>\n",
       "      <td>2023-05-05 12:00:00</td>\n",
       "    </tr>\n",
       "    <tr>\n",
       "      <th>4</th>\n",
       "      <td>0.225</td>\n",
       "      <td>40</td>\n",
       "      <td>Coffe 2</td>\n",
       "      <td>23.25</td>\n",
       "      <td>2023-05-05 12:00:00</td>\n",
       "    </tr>\n",
       "    <tr>\n",
       "      <th>...</th>\n",
       "      <td>...</td>\n",
       "      <td>...</td>\n",
       "      <td>...</td>\n",
       "      <td>...</td>\n",
       "      <td>...</td>\n",
       "    </tr>\n",
       "    <tr>\n",
       "      <th>659411</th>\n",
       "      <td>0.125</td>\n",
       "      <td>40</td>\n",
       "      <td>LFDP0204</td>\n",
       "      <td>22.71</td>\n",
       "      <td>2025-01-07 10:00:00</td>\n",
       "    </tr>\n",
       "    <tr>\n",
       "      <th>659412</th>\n",
       "      <td>0.219</td>\n",
       "      <td>50</td>\n",
       "      <td>LFDP0204</td>\n",
       "      <td>22.85</td>\n",
       "      <td>2025-01-07 10:00:00</td>\n",
       "    </tr>\n",
       "    <tr>\n",
       "      <th>659413</th>\n",
       "      <td>0.289</td>\n",
       "      <td>60</td>\n",
       "      <td>LFDP0204</td>\n",
       "      <td>22.97</td>\n",
       "      <td>2025-01-07 10:00:00</td>\n",
       "    </tr>\n",
       "    <tr>\n",
       "      <th>659414</th>\n",
       "      <td>0.498</td>\n",
       "      <td>75</td>\n",
       "      <td>LFDP0204</td>\n",
       "      <td>23.13</td>\n",
       "      <td>2025-01-07 10:00:00</td>\n",
       "    </tr>\n",
       "    <tr>\n",
       "      <th>659415</th>\n",
       "      <td>0.633</td>\n",
       "      <td>100</td>\n",
       "      <td>LFDP0204</td>\n",
       "      <td>23.36</td>\n",
       "      <td>2025-01-07 10:00:00</td>\n",
       "    </tr>\n",
       "  </tbody>\n",
       "</table>\n",
       "<p>659416 rows × 5 columns</p>\n",
       "</div>"
      ],
      "text/plain": [
       "          VWC  depth      Plot  Temperature            Timestamp\n",
       "0       0.107      5   Coffe 2        24.35  2023-05-05 12:00:00\n",
       "1       0.127     10   Coffe 2        24.01  2023-05-05 12:00:00\n",
       "2       0.069     20   Coffe 2        23.55  2023-05-05 12:00:00\n",
       "3       0.206     30   Coffe 2        23.40  2023-05-05 12:00:00\n",
       "4       0.225     40   Coffe 2        23.25  2023-05-05 12:00:00\n",
       "...       ...    ...       ...          ...                  ...\n",
       "659411  0.125     40  LFDP0204        22.71  2025-01-07 10:00:00\n",
       "659412  0.219     50  LFDP0204        22.85  2025-01-07 10:00:00\n",
       "659413  0.289     60  LFDP0204        22.97  2025-01-07 10:00:00\n",
       "659414  0.498     75  LFDP0204        23.13  2025-01-07 10:00:00\n",
       "659415  0.633    100  LFDP0204        23.36  2025-01-07 10:00:00\n",
       "\n",
       "[659416 rows x 5 columns]"
      ]
     },
     "execution_count": 14,
     "metadata": {},
     "output_type": "execute_result"
    }
   ],
   "source": [
    "df_soilvue1m['Timestamp'] = df_soilvue1m['Timestamp'].dt.strftime('%Y-%m-%d %H:%M:%S')\n",
    "df_soilvue1m"
   ]
  },
  {
   "cell_type": "code",
   "execution_count": 15,
   "id": "678ef199-85a8-4822-9759-ca591579ff31",
   "metadata": {},
   "outputs": [
    {
     "name": "stdout",
     "output_type": "stream",
     "text": [
      "     VWC  depth        Plot  Temperature           Timestamp\n",
      "0  0.101      5  Omar Upper        23.31 2023-05-09 12:00:00\n",
      "1  0.000     10  Omar Upper        22.49 2023-05-09 12:00:00\n",
      "2  0.145     20  Omar Upper        22.26 2023-05-09 12:00:00\n",
      "3  0.287     30  Omar Upper        22.26 2023-05-09 12:00:00\n",
      "4  0.494     40  Omar Upper        22.26 2023-05-09 12:00:00\n",
      "     VWC  depth        Plot  Temperature           Timestamp\n",
      "0  0.044      5  Omar Lower        23.56 2023-05-05 16:00:00\n",
      "1  0.000     10  Omar Lower        23.30 2023-05-05 16:00:00\n",
      "2  0.046     20  Omar Lower        22.91 2023-05-05 16:00:00\n",
      "3  0.223     30  Omar Lower        22.86 2023-05-05 16:00:00\n",
      "4  0.139     40  Omar Lower        22.78 2023-05-05 16:00:00\n",
      "     VWC  depth      Plot  Temperature           Timestamp\n",
      "0  0.187      5  LFDP0204        24.17 2023-05-05 17:00:00\n",
      "1  0.415     10  LFDP0204        23.95 2023-05-05 17:00:00\n",
      "2  0.279     20  LFDP0204        23.66 2023-05-05 17:00:00\n",
      "3  0.375     30  LFDP0204        23.52 2023-05-05 17:00:00\n",
      "4  0.022     40  LFDP0204        23.39 2023-05-05 17:00:00\n"
     ]
    },
    {
     "ename": "NameError",
     "evalue": "name 'grid02_1m' is not defined",
     "output_type": "error",
     "traceback": [
      "\u001b[0;31m---------------------------------------------------------------------------\u001b[0m",
      "\u001b[0;31mNameError\u001b[0m                                 Traceback (most recent call last)",
      "Cell \u001b[0;32mIn[15], line 30\u001b[0m\n\u001b[1;32m     28\u001b[0m \u001b[38;5;28mprint\u001b[39m(omarl_1m\u001b[38;5;241m.\u001b[39mhead())\n\u001b[1;32m     29\u001b[0m \u001b[38;5;28mprint\u001b[39m(grid04_1m\u001b[38;5;241m.\u001b[39mhead())\n\u001b[0;32m---> 30\u001b[0m \u001b[38;5;28mprint\u001b[39m(grid02_1m\u001b[38;5;241m.\u001b[39mhead())\n\u001b[1;32m     31\u001b[0m \u001b[38;5;28mprint\u001b[39m(coffe1_1m\u001b[38;5;241m.\u001b[39mhead())\n\u001b[1;32m     32\u001b[0m \u001b[38;5;28mprint\u001b[39m(coffe2_1m\u001b[38;5;241m.\u001b[39mhead())\n",
      "\u001b[0;31mNameError\u001b[0m: name 'grid02_1m' is not defined"
     ]
    }
   ],
   "source": [
    "#creating dfs per plot\n",
    "df = df_soilvue1m.copy()\n",
    "\n",
    "# Standardize Plot names\n",
    "df[\"Plot\"] = df[\"Plot\"].astype(str).str.strip()\n",
    "df[\"Timestamp\"] = pd.to_datetime(df[\"Timestamp\"], errors=\"coerce\")\n",
    "\n",
    "# Map original Plot names to short variable-style names\n",
    "plot_map = {\n",
    "    \"Omar Upper\": \"omaru\",\n",
    "    \"Coffe 1\": \"coffe1\",\n",
    "    \"Coffe 2\": \"coffe2\",\n",
    "    \"Omar Lower\": \"omarl\",\n",
    "    \"LFDP090102\": \"grid02\",\n",
    "    \"LFDP0204\": \"grid04\"\n",
    "}\n",
    "\n",
    "# Generate a dict first (safe)\n",
    "dfs_by_plot = {plot_map[p]: g.sort_values([\"Timestamp\", \"depth\"]).reset_index(drop=True)\n",
    "               for p, g in df.groupby(\"Plot\") if p in plot_map}\n",
    "\n",
    "# Turn them into real variables in your session\n",
    "for shortname, g in dfs_by_plot.items():\n",
    "    globals()[f\"{shortname}_1m\"] = g\n",
    "\n",
    "# Example: use directly\n",
    "print(omaru_1m.head())\n",
    "print(omarl_1m.head())\n",
    "print(grid04_1m.head())\n",
    "print(grid02_1m.head())\n",
    "print(coffe1_1m.head())\n",
    "print(coffe2_1m.head())"
   ]
  },
  {
   "cell_type": "code",
   "execution_count": 16,
   "id": "03847e88-f204-4153-878b-5a29142b32fb",
   "metadata": {},
   "outputs": [
    {
     "name": "stdout",
     "output_type": "stream",
     "text": [
      "     VWC  depth        Plot  Temperature           Timestamp\n",
      "0  0.128      5  Omar Upper        24.27 2022-09-02 14:00:00\n",
      "1  0.024     10  Omar Upper        24.12 2022-09-02 14:00:00\n",
      "2  0.450     20  Omar Upper        23.96 2022-09-02 14:00:00\n",
      "3  0.549     30  Omar Upper        24.00 2022-09-02 14:00:00\n",
      "4  0.477     40  Omar Upper        23.94 2022-09-02 14:00:00\n",
      "     VWC  depth        Plot  Temperature           Timestamp\n",
      "0  0.000      5  Omar Lower        25.73 2022-09-02 13:00:00\n",
      "1  0.019     10  Omar Lower        25.16 2022-09-02 13:00:00\n",
      "2  0.456     20  Omar Lower        25.03 2022-09-02 13:00:00\n",
      "3  0.519     30  Omar Lower        25.16 2022-09-02 13:00:00\n",
      "4  0.501     40  Omar Lower        25.09 2022-09-02 13:00:00\n",
      "     VWC  depth      Plot  Temperature           Timestamp\n",
      "0  0.168      5  LFDP0204        24.97 2022-09-02 17:00:00\n",
      "1  0.000     10  LFDP0204        24.88 2022-09-02 17:00:00\n",
      "2  0.181     20  LFDP0204        24.60 2022-09-02 17:00:00\n",
      "3  0.483     30  LFDP0204        24.57 2022-09-02 17:00:00\n",
      "4  0.525     40  LFDP0204        24.63 2022-09-02 17:00:00\n",
      "     VWC  depth        Plot  Temperature           Timestamp\n",
      "0  0.410      5  LFDP090102        25.25 2022-09-02 17:00:00\n",
      "1  0.286     10  LFDP090102        25.25 2022-09-02 17:00:00\n",
      "2  0.525     20  LFDP090102        24.73 2022-09-02 17:00:00\n",
      "3  0.648     30  LFDP090102        24.52 2022-09-02 17:00:00\n",
      "4  0.648     40  LFDP090102        24.39 2022-09-02 17:00:00\n",
      "     VWC  depth     Plot  Temperature           Timestamp\n",
      "0  0.007      5  Coffe 1        0.825 2022-09-02 17:00:00\n",
      "1  0.006     10  Coffe 1        0.823 2022-09-02 17:00:00\n",
      "2  0.015     20  Coffe 1        0.807 2022-09-02 17:00:00\n",
      "3  0.016     30  Coffe 1        0.799 2022-09-02 17:00:00\n",
      "4  0.015     40  Coffe 1        0.798 2022-09-02 17:00:00\n",
      "     VWC  depth     Plot  Temperature           Timestamp\n",
      "0  0.155      5  Coffe 2        24.65 2022-09-02 17:00:00\n",
      "1  0.014     10  Coffe 2        24.68 2022-09-02 17:00:00\n",
      "2  0.198     20  Coffe 2        24.37 2022-09-02 17:00:00\n",
      "3  0.486     30  Coffe 2        24.18 2022-09-02 17:00:00\n",
      "4  0.569     40  Coffe 2        24.12 2022-09-02 17:00:00\n"
     ]
    }
   ],
   "source": [
    "#creating dfs per plot\n",
    "df50 = df_soilvue50cm.copy()\n",
    "\n",
    "# Standardize Plot names\n",
    "df50[\"Plot\"] = df50[\"Plot\"].astype(str).str.strip()\n",
    "df50[\"Timestamp\"] = pd.to_datetime(df50[\"Timestamp\"], errors=\"coerce\")\n",
    "\n",
    "# Map original Plot names to short variable-style names\n",
    "plot_map = {\n",
    "    \"Omar Upper\": \"omaru\",\n",
    "    \"Coffe 1\": \"coffe1\",\n",
    "    \"Coffe 2\": \"coffe2\",\n",
    "    \"Omar Lower\": \"omarl\",\n",
    "    \"LFDP090102\": \"grid02\",\n",
    "    \"LFDP0204\": \"grid04\"\n",
    "}\n",
    "\n",
    "# Generate a dict first (safe)\n",
    "dfs_by_plot = {plot_map[p]: g.sort_values([\"Timestamp\", \"depth\"]).reset_index(drop=True)\n",
    "               for p, g in df50.groupby(\"Plot\") if p in plot_map}\n",
    "\n",
    "# Turn them into real variables in your session\n",
    "for shortname, g in dfs_by_plot.items():\n",
    "    globals()[f\"{shortname}_50cm\"] = g\n",
    "\n",
    "# Example: use directly\n",
    "print(omaru_50cm.head())\n",
    "print(omarl_50cm.head())\n",
    "print(grid04_50cm.head())\n",
    "print(grid02_50cm.head())\n",
    "print(coffe1_50cm.head())\n",
    "print(coffe2_50cm.head())"
   ]
  },
  {
   "cell_type": "code",
   "execution_count": null,
   "id": "a98ca235-6eaf-4f1c-a8c6-8426509c3c3b",
   "metadata": {},
   "outputs": [],
   "source": [
    "# weather data\n",
    "weather_file='/Volumes/coraldelmar/weather.station_alonso/2024/2024-1h.xlsx'\n",
    "df_weather=pd.read_excel(weather_file)\n",
    "print(df_weather)"
   ]
  },
  {
   "cell_type": "code",
   "execution_count": null,
   "id": "b76f338a-1455-4c9e-bb40-6fc1b86452fd",
   "metadata": {},
   "outputs": [],
   "source": [
    "print(df_weather.columns)"
   ]
  },
  {
   "cell_type": "code",
   "execution_count": null,
   "id": "3425234f-c1be-4d41-8bc8-1f7586ec1435",
   "metadata": {},
   "outputs": [],
   "source": [
    "drop=['Hour','RECORD','BattV_Avg','PTemp_C_Avg','WindDir','WS_ms_Avg','NR_Wm2_Avg','Unnamed: 16']\n",
    "df_weather=df_weather.drop(columns=drop,errors='ignore')"
   ]
  },
  {
   "cell_type": "code",
   "execution_count": null,
   "id": "97682e33-4b92-4d7b-ae14-327e5ab3d370",
   "metadata": {},
   "outputs": [],
   "source": [
    "df_weather=df_weather.rename(columns={'TIMESTAMP': 'Timestamp'})"
   ]
  },
  {
   "cell_type": "code",
   "execution_count": null,
   "id": "5c8352b4-7a23-458d-94f9-935638f1e017",
   "metadata": {},
   "outputs": [],
   "source": [
    "print(df_weather.head(10))"
   ]
  },
  {
   "cell_type": "code",
   "execution_count": null,
   "id": "df1bdb58-0f6a-42e9-ab46-ca39b5e0c627",
   "metadata": {},
   "outputs": [],
   "source": [
    "# band dendrometer\n",
    "bandDendro_file='/Volumes/coraldelmar/band.dendrometer/BandDendrometers_Census5_May2024.xlsx'\n",
    "df_bandDendro=pd.read_excel(bandDendro_file)\n",
    "print(df_bandDendro.head())"
   ]
  },
  {
   "cell_type": "code",
   "execution_count": null,
   "id": "3dcdd378-9d60-4522-b5c0-3e324cc88dfe",
   "metadata": {},
   "outputs": [],
   "source": [
    "print(df_bandDendro.columns)"
   ]
  },
  {
   "cell_type": "code",
   "execution_count": null,
   "id": "9477c9e5-6cfa-475d-8858-70893ce2d254",
   "metadata": {},
   "outputs": [],
   "source": [
    "dropz=['Note']\n",
    "df_bandDendro=df_bandDendro.drop(columns=dropz,errors='ignore')"
   ]
  },
  {
   "cell_type": "code",
   "execution_count": null,
   "id": "ae2481a2-a6ba-4afb-a5dd-6520a3c26a20",
   "metadata": {},
   "outputs": [],
   "source": [
    "df_bandDendro =df_bandDendro.replace(\"-\", pd.NA).dropna().reset_index(drop=True)\n",
    "print(df_bandDendro.head(20))"
   ]
  },
  {
   "cell_type": "code",
   "execution_count": null,
   "id": "be80e3fe-b3ac-4201-b68c-606a4ba5edf8",
   "metadata": {},
   "outputs": [],
   "source": [
    "print(df_bandDendro.columns)"
   ]
  },
  {
   "cell_type": "code",
   "execution_count": null,
   "id": "65688971-068e-40a0-aecd-b0feab1f158d",
   "metadata": {
    "tags": []
   },
   "outputs": [],
   "source": [
    "\n",
    "df_bandDendro[\"Timestamp\"] = pd.to_datetime(df_bandDendro[\"Date\"].astype(str) + \" \" + df_bandDendro[\"Time\"].astype(str))\n",
    "\n",
    "df_bandDendro = df_bandDendro.drop(columns=[\"Date\", \"Time\"])\n",
    "\n",
    "# Check the result\n",
    "print(df_bandDendro.head())\n"
   ]
  },
  {
   "cell_type": "code",
   "execution_count": null,
   "id": "84685d61-5a76-4dc7-b87c-b01eff5250b2",
   "metadata": {},
   "outputs": [],
   "source": [
    "# #as strings in order to drop\n",
    "# df_bandDendro['Timestamp'] = pd.to_datetime(\n",
    "#     df_bandDendro['Date'].astype(str) + ' ' + df_bandDendro['Time'].astype(str)\n",
    "# )\n",
    "\n",
    "# # drop 'Date' and 'Time' columns\n",
    "# df_bandDendro = df_bandDendro.drop(columns=['Date', 'Time'])\n",
    "\n",
    "# print(df_bandDendro.head())\n",
    "\n"
   ]
  },
  {
   "cell_type": "code",
   "execution_count": null,
   "id": "bd42beb6-81ec-427f-9f36-7a885504fb70",
   "metadata": {},
   "outputs": [],
   "source": [
    "# loading combined sapflow data from loading_sapflow.ipynb\n",
    "# march 2024 data\n",
    "march2025_sapflow='/Volumes/coraldelmar/sapflow/2025/marzo2025/combined_sapflow_data.csv'\n",
    "df_sapflow0325=pd.read_csv(march2025_sapflow)\n",
    "print(df_sapflow0325)\n"
   ]
  },
  {
   "cell_type": "code",
   "execution_count": null,
   "id": "b8603b82-16b8-4fac-9ae1-16d610c67cde",
   "metadata": {},
   "outputs": [],
   "source": [
    "#removing commas\n",
    "#df_sapflow0324 = df_sapflow0324.applymap(lambda x: x.replace(',', '') if isinstance(x, str) else x)\n"
   ]
  },
  {
   "cell_type": "code",
   "execution_count": null,
   "id": "1a3fe258-f9e4-49de-a0ce-9775bfe410a8",
   "metadata": {},
   "outputs": [],
   "source": [
    "df_sapflow0325"
   ]
  },
  {
   "cell_type": "code",
   "execution_count": null,
   "id": "7eb8e552-cbe0-4b8b-a76a-f535e1dead84",
   "metadata": {},
   "outputs": [],
   "source": [
    "print(df_sapflow0325.columns)"
   ]
  },
  {
   "cell_type": "code",
   "execution_count": null,
   "id": "bb11a0a2-616e-4a79-8d54-e88b17ca9766",
   "metadata": {},
   "outputs": [],
   "source": [
    "drop3=['DOY','Sapwood dry weight (g)','Sapwood fresh volume (cm^3)', 'Probe spacing (cm)',\n",
    "       'Xylem radius (cm)',' Thermistor distance (cm)',' First thermistor depth (cm)',\n",
    "       'Sapwood depth (cm)','Beyond last thermistor','Advanced thermal diffusivity',\n",
    "       'Sapwood fresh weight (g)','Thermistor distance (cm)','First thermistor depth (cm)',\n",
    "       'Bark thickness (cm)','Thermal diffusivity (cm^2.s^-1)',\n",
    "       'Wound diameter (cm)','Wound correction factor (-)','Vs correction factor (-)','Sensor properties:',\n",
    "      'Calculation coefficients:']\n",
    "df_sapflow0325=df_sapflow0325.drop(columns=drop3,errors='ignore')\n",
    "df_sapflow0325=df_sapflow0325.rename(columns={'Date Time': 'Timestamp'})\n",
    "df_sapflow0325.head(10)"
   ]
  },
  {
   "cell_type": "code",
   "execution_count": null,
   "id": "96d78f56-a9ed-4dfb-b8c9-c2e456d1ba85",
   "metadata": {},
   "outputs": [],
   "source": [
    "print(df_sapflow0325.columns)"
   ]
  },
  {
   "cell_type": "code",
   "execution_count": null,
   "id": "43919e5e-1db5-425b-b551-0cfc2b75cc96",
   "metadata": {},
   "outputs": [],
   "source": [
    "# #consistent date time\n",
    "# #\n",
    "# df_sapflow0324.columns = df_sapflow0324.columns.str.strip()\n",
    "\n",
    "# #datetime\n",
    "# df_sapflow0324['Timestamp'] = pd.to_datetime(\n",
    "#     df_sapflow0324['Timestamp'], format='%d/%m/%Y %H:%M', errors='coerce'\n",
    "# )\n",
    "\n",
    "# #droping invalid timestamps\n",
    "# df_sapflow0324 = df_sapflow0324.dropna(subset=['Timestamp'])\n",
    "\n",
    "# # dropping any duplicate timestamps\n",
    "# #df_sapflow0324 = df_sapflow0324.drop_duplicates(subset='Timestamp')\n",
    "\n",
    "# # sort by timestamps\n",
    "# df_sapflow0324 = df_sapflow0324.sort_values('Timestamp')\n",
    "# '''\n",
    "# # hourly timestamp range\n",
    "# full_range = pd.date_range(\n",
    "#     start=df_sapflow0324['Timestamp'].min(),\n",
    "#     end=df_sapflow0324['Timestamp'].max(),\n",
    "#     freq='h'  \n",
    "# )\n",
    "\n",
    "# # reindex timestamp\n",
    "# df_sapflow0324 = df_sapflow0324.set_index('Timestamp').reindex(full_range)\n",
    "# '''\n",
    "# # index back to column \n",
    "# df_sapflow0324.index.name = 'Timestamp'\n",
    "# #df_sapflow0324 = df_sapflow0324.reset_index()\n",
    "\n",
    "# # \n",
    "# print(df_sapflow0324.head())\n"
   ]
  },
  {
   "cell_type": "code",
   "execution_count": null,
   "id": "5ac6d43a-6a4d-4123-980d-5eeea2692a66",
   "metadata": {},
   "outputs": [],
   "source": [
    "print(df_sapflow0325['SpeciesCode'].unique())\n"
   ]
  },
  {
   "cell_type": "code",
   "execution_count": null,
   "id": "c6a4b906-b7be-4832-8221-f52d22f6316c",
   "metadata": {
    "tags": []
   },
   "outputs": [],
   "source": [
    "# loading combined sapflow data from loading_sapflow.ipynb\n",
    "# may 2024 data\n",
    "may2025_sapflow='/Volumes/coraldelmar/sapflow/2025/mayo2025/combined_sapflow_data.csv'\n",
    "df_sapflow0525=pd.read_csv(may2025_sapflow)\n",
    "print(df_sapflow0525)"
   ]
  },
  {
   "cell_type": "code",
   "execution_count": null,
   "id": "0bc5b2a8-ba62-4baf-90f6-3b478ec9b8c7",
   "metadata": {},
   "outputs": [],
   "source": [
    "drop3=['DOY','Sapwood dry weight (g)','Sapwood fresh volume (cm^3)', 'Probe spacing (cm)',\n",
    "       'Xylem radius (cm)',' Thermistor distance (cm)',' First thermistor depth (cm)',\n",
    "       'Sapwood depth (cm)','Beyond last thermistor','Advanced thermal diffusivity',\n",
    "       'Sapwood fresh weight (g)','Thermistor distance (cm)','First thermistor depth (cm)',\n",
    "       'Bark thickness (cm)','Thermal diffusivity (cm^2.s^-1)',\n",
    "       'Wound diameter (cm)','Wound correction factor (-)','Vs correction factor (-)','Sensor properties:',\n",
    "      'Calculation coefficients:']\n",
    "df_sapflow0525=df_sapflow0525.drop(columns=drop3,errors='ignore')\n",
    "df_sapflow0525=df_sapflow0525.rename(columns={'Date Time': 'Timestamp'})\n",
    "df_sapflow0525.head(10)"
   ]
  },
  {
   "cell_type": "code",
   "execution_count": null,
   "id": "8e5bb8c3-8d93-4122-b813-9734ea943e57",
   "metadata": {},
   "outputs": [],
   "source": [
    "# #consistent date time\n",
    "# #\n",
    "# df_sapflow0524.columns = df_sapflow0524.columns.str.strip()\n",
    "\n",
    "# #datetime\n",
    "# df_sapflow0524['Timestamp'] = pd.to_datetime(\n",
    "#     df_sapflow0524['Timestamp'], format='%d/%m/%Y %H:%M', errors='coerce'\n",
    "# )\n",
    "\n",
    "# #droping invalid timestamps\n",
    "# df_sapflow0524 = df_sapflow0524.dropna(subset=['Timestamp'])\n",
    "\n",
    "# # dropping any duplicate timestamps\n",
    "# df_sapflow0524 = df_sapflow0524.drop_duplicates(subset='Timestamp')\n",
    "\n",
    "# # sort by timestamps\n",
    "# df_sapflow0524 = df_sapflow0524.sort_values('Timestamp')\n",
    "\n",
    "# # hourly timestamp range\n",
    "# full_range = pd.date_range(\n",
    "#     start=df_sapflow0524['Timestamp'].min(),\n",
    "#     end=df_sapflow0524['Timestamp'].max(),\n",
    "#     freq='h'  \n",
    "# )\n",
    "\n",
    "# # reindex timestamp\n",
    "# df_sapflow0524 = df_sapflow0524.set_index('Timestamp').reindex(full_range)\n",
    "\n",
    "# # index back to column \n",
    "# df_sapflow0524.index.name = 'Timestamp'\n",
    "# df_sapflow0524 = df_sapflow0524.reset_index()\n",
    "\n",
    "# # \n",
    "# print(df_sapflow0524.head())\n"
   ]
  },
  {
   "cell_type": "code",
   "execution_count": null,
   "id": "c31bf8f8-6a68-44d1-9770-6e7d7bd8bbf9",
   "metadata": {},
   "outputs": [],
   "source": [
    "print(df_sapflow0525['SpeciesCode'].unique())\n",
    "#no guagui nor manbid "
   ]
  },
  {
   "cell_type": "code",
   "execution_count": null,
   "id": "5cabf769-ab4d-462b-be46-b480d85dcacb",
   "metadata": {},
   "outputs": [],
   "source": [
    "df_sapflow0325.to_csv('/Volumes/coraldelmar/analyses/sapflow0325.csv')\n",
    "df_sapflow0525.to_csv('/Volumes/coraldelmar/analyses/sapflow0525.csv')"
   ]
  },
  {
   "cell_type": "code",
   "execution_count": null,
   "id": "68c75af9-4654-4c36-b09a-172f77925174",
   "metadata": {},
   "outputs": [],
   "source": [
    "#saving as csvs\n",
    "df_zentra.to_csv('/Volumes/coraldelmar/analyses/zentra.csv', index=False)\n",
    "df_soilvue50cm.to_csv('/Volumes/coraldelmar/analyses/soilvue50cm.csv', index=False)\n",
    "df_soilvue1m.to_csv('/Volumes/coraldelmar/analyses/soilvue1m.csv',index=False)\n",
    "df_bandDendro.to_csv('/Volumes/coraldelmar/analyses/bandDendro.csv',index=False)\n",
    "df_sapflow0325.to_csv('/Volumes/coraldelmar/analyses/sapflow0325.csv',index=False)\n",
    "df_sapflow0525.to_csv('/Volumes/coraldelmar/analyses/sapflow0525.csv',index=False)\n",
    "\n",
    "omaru_1m.to_csv('/Volumes/coraldelmar/analyses/omaru_1m.csv', index=False)\n",
    "omarl_1m.to_csv('/Volumes/coraldelmar/analyses/omarl_1m.csv', index=False)\n",
    "grid04_1m.to_csv('/Volumes/coraldelmar/analyses/grid04_1m.csv', index=False)\n",
    "grid02_1m.to_csv('/Volumes/coraldelmar/analyses/grid02_1m.csv', index=False)\n",
    "coffe1_1m.to_csv('/Volumes/coraldelmar/analyses/coffe1_1m.csv', index=False)\n",
    "coffe2_1m.to_csv('/Volumes/coraldelmar/analyses/coffe2_1m.csv', index=False)\n",
    "#\n",
    "omaru_50cm.to_csv('/Volumes/coraldelmar/analyses/omaru_50cm.csv', index=False)\n",
    "omarl_50cm.to_csv('/Volumes/coraldelmar/analyses/omarl_50cm.csv', index=False)\n",
    "grid04_50cm.to_csv('/Volumes/coraldelmar/analyses/grid04_50cm.csv', index=False)\n",
    "grid02_50cm.to_csv('/Volumes/coraldelmar/analyses/grid02_50cm.csv', index=False)\n",
    "coffe1_50cm.to_csv('/Volumes/coraldelmar/analyses/coffe1_50cm.csv', index=False)\n",
    "coffe2_50cm.to_csv('/Volumes/coraldelmar/analyses/coffe2_50cm.csv', index=False)"
   ]
  }
 ],
 "metadata": {
  "kernelspec": {
   "display_name": "Python 3 (ipykernel)",
   "language": "python",
   "name": "python3"
  },
  "language_info": {
   "codemirror_mode": {
    "name": "ipython",
    "version": 3
   },
   "file_extension": ".py",
   "mimetype": "text/x-python",
   "name": "python",
   "nbconvert_exporter": "python",
   "pygments_lexer": "ipython3",
   "version": "3.13.2"
  }
 },
 "nbformat": 4,
 "nbformat_minor": 5
}
